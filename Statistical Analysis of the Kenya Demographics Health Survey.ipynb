{
  "nbformat": 4,
  "nbformat_minor": 0,
  "metadata": {
    "kernelspec": {
      "display_name": "Python 3",
      "language": "python",
      "name": "python3"
    },
    "language_info": {
      "codemirror_mode": {
        "name": "ipython",
        "version": 3
      },
      "file_extension": ".py",
      "mimetype": "text/x-python",
      "name": "python",
      "nbconvert_exporter": "python",
      "pygments_lexer": "ipython3",
      "version": "3.7.4"
    },
    "colab": {
      "name": "Statistical Analysis With Python - Solution(Taracha).ipynb",
      "provenance": [],
      "collapsed_sections": [
        "Ee45mguRBJ40",
        "ctyrDbwjBJ41",
        "t5knWWM6BJ42",
        "SsRaHFwfBJ43",
        "1YLTcqDMBJ43"
      ]
    }
  },
  "cells": [
    {
      "cell_type": "markdown",
      "metadata": {
        "id": "yy9C9dLyBJ40"
      },
      "source": [
        "## 1. Defining the Question"
      ]
    },
    {
      "cell_type": "markdown",
      "metadata": {
        "id": "Ee45mguRBJ40"
      },
      "source": [
        "### a) Specifying the Data Analysis Question\n",
        "\n",
        "What are the factors that determine the number of children born to a woman of reproductive age in Kenya?"
      ]
    },
    {
      "cell_type": "markdown",
      "metadata": {
        "id": "ctyrDbwjBJ41"
      },
      "source": [
        "### b) Defining the Metric for Success\n",
        "\n",
        "This project will be a success when we are able to carry out data analysis to gain insights that answer the research question."
      ]
    },
    {
      "cell_type": "markdown",
      "metadata": {
        "id": "t5knWWM6BJ42"
      },
      "source": [
        "### c) Understanding the context \n",
        "\n",
        "The Demographic and Health Surveys (DHS) Program has collected, analyzed, and disseminated accurate and representative data on population, health, HIV, and nutrition through more than 400 surveys in over 90 countries.\n",
        "\n",
        "As a Data professional you are tasked to determine the main factors that can help determine the number of total children ever born by a woman of reproductive age in Kenya. You are provided with the Kenya Demographics Health Survey (KDHS 2014) data set."
      ]
    },
    {
      "cell_type": "markdown",
      "metadata": {
        "id": "SsRaHFwfBJ43"
      },
      "source": [
        "### d) Recording the Experimental Design\n",
        "1. Load libraries\n",
        "2. Load dataset with the following variables:\n",
        "    * CASEID : Unique Case identifier\n",
        "    * V010 : Respondents Year of Birth\n",
        "    * V012 : Respondents current age\n",
        "    * V025 : Type of residence\n",
        "    * V024 : Region\n",
        "    * V106 : Highest level of education\n",
        "    * V152 : Age of household head\n",
        "    * V201 : Total children ever born\n",
        "3. Answer the deliverables outlined below\n",
        "4. Summarize findings.\n",
        "\n",
        "**Deliverables:**\n",
        "* Input the dataset provided and display the head(5) of the dataset with the above variables of interest only.\n",
        "* Calculate the mean, median and mode for V012 , V152 and V201. Would you prefer mean or median for V201?\n",
        "* Calculate the Range, IQR and standard deviation for V012 and V152. Comment on variability of the variables.\n",
        "* Plot a histogram of V012 and V152 and explain the skewness.\n",
        "* Create a frequency table for V024 and V106 then plot a barchart for the two variables.\n",
        "* Create a boxplot of V201 by (V025, V106, V024) separately.\n",
        "* Create a scatter plot and compute the Pearson Correlation Coefficient between V201 and V012 explaining your findings.\n",
        "\n",
        "\n",
        "\n"
      ]
    },
    {
      "cell_type": "markdown",
      "metadata": {
        "id": "1YLTcqDMBJ43"
      },
      "source": [
        "### e) Data Relevance\n",
        "\n",
        "While this data set provided the information necessary to answer the research question, it could benefit from having more data, such as the income level of the respondents, their marital status, and so on."
      ]
    },
    {
      "cell_type": "markdown",
      "metadata": {
        "id": "VkB4k57ZBJ44"
      },
      "source": [
        "## 2. Data Cleaning & Analysis"
      ]
    },
    {
      "cell_type": "code",
      "metadata": {
        "id": "HaTRnjkOBJ44"
      },
      "source": [
        "# loading libraries\n",
        "import pandas as pd\n",
        "import numpy as np\n",
        "\n",
        "import matplotlib.pyplot as plt\n",
        "%matplotlib inline\n",
        "import seaborn as sns\n",
        "\n",
        "import warnings\n",
        "warnings.filterwarnings(\"ignore\")"
      ],
      "execution_count": null,
      "outputs": []
    },
    {
      "cell_type": "code",
      "metadata": {
        "id": "PYGpdTddBJ4-",
        "outputId": "1c2da676-d5e8-44cd-a8a3-8109f675256d",
        "colab": {
          "base_uri": "https://localhost:8080/",
          "height": 525
        }
      },
      "source": [
        "# loading the main data set\n",
        "# kdhs2014 = pd.read_csv('kdhs2014_childfile.csv')\n",
        "kdhs2014 = pd.read_csv('https://bit.ly/khds_dataset')\n",
        "kdhs2014.head(5)"
      ],
      "execution_count": null,
      "outputs": [
        {
          "output_type": "execute_result",
          "data": {
            "text/html": [
              "<div>\n",
              "<style scoped>\n",
              "    .dataframe tbody tr th:only-of-type {\n",
              "        vertical-align: middle;\n",
              "    }\n",
              "\n",
              "    .dataframe tbody tr th {\n",
              "        vertical-align: top;\n",
              "    }\n",
              "\n",
              "    .dataframe thead th {\n",
              "        text-align: right;\n",
              "    }\n",
              "</style>\n",
              "<table border=\"1\" class=\"dataframe\">\n",
              "  <thead>\n",
              "    <tr style=\"text-align: right;\">\n",
              "      <th></th>\n",
              "      <th>Unnamed: 0</th>\n",
              "      <th>CASEID</th>\n",
              "      <th>MIDX</th>\n",
              "      <th>V000</th>\n",
              "      <th>V001</th>\n",
              "      <th>V002</th>\n",
              "      <th>V003</th>\n",
              "      <th>V004</th>\n",
              "      <th>V005</th>\n",
              "      <th>V006</th>\n",
              "      <th>V007</th>\n",
              "      <th>V008</th>\n",
              "      <th>V009</th>\n",
              "      <th>V010</th>\n",
              "      <th>V011</th>\n",
              "      <th>V012</th>\n",
              "      <th>V013</th>\n",
              "      <th>V014</th>\n",
              "      <th>V015</th>\n",
              "      <th>V016</th>\n",
              "      <th>V017</th>\n",
              "      <th>V018</th>\n",
              "      <th>V019</th>\n",
              "      <th>V019A</th>\n",
              "      <th>V020</th>\n",
              "      <th>V021</th>\n",
              "      <th>V022</th>\n",
              "      <th>V023</th>\n",
              "      <th>V024</th>\n",
              "      <th>V025</th>\n",
              "      <th>V026</th>\n",
              "      <th>V027</th>\n",
              "      <th>V028</th>\n",
              "      <th>V029</th>\n",
              "      <th>V030</th>\n",
              "      <th>V031</th>\n",
              "      <th>V032</th>\n",
              "      <th>V034</th>\n",
              "      <th>V040</th>\n",
              "      <th>V042</th>\n",
              "      <th>...</th>\n",
              "      <th>SYPN1</th>\n",
              "      <th>SPN2</th>\n",
              "      <th>SDPN2</th>\n",
              "      <th>SMPN2</th>\n",
              "      <th>SYPN2</th>\n",
              "      <th>SPN3</th>\n",
              "      <th>SDPN3</th>\n",
              "      <th>SMPN3</th>\n",
              "      <th>SYPN3</th>\n",
              "      <th>SRV1</th>\n",
              "      <th>SDRV1</th>\n",
              "      <th>SMRV1</th>\n",
              "      <th>SYRV1</th>\n",
              "      <th>SRV2</th>\n",
              "      <th>SDRV2</th>\n",
              "      <th>SMRV2</th>\n",
              "      <th>SYRV2</th>\n",
              "      <th>SYF</th>\n",
              "      <th>SDYF</th>\n",
              "      <th>SMYF</th>\n",
              "      <th>SYYF</th>\n",
              "      <th>SAMZ</th>\n",
              "      <th>SDAMZ</th>\n",
              "      <th>SMAMZ</th>\n",
              "      <th>SYAMZ</th>\n",
              "      <th>S521BA</th>\n",
              "      <th>S521BB</th>\n",
              "      <th>S521BC</th>\n",
              "      <th>S521BD</th>\n",
              "      <th>S521BE</th>\n",
              "      <th>S521BX</th>\n",
              "      <th>S539AA</th>\n",
              "      <th>S539AB</th>\n",
              "      <th>S539AC</th>\n",
              "      <th>S539AD</th>\n",
              "      <th>S539AE</th>\n",
              "      <th>S539AF</th>\n",
              "      <th>S539AG</th>\n",
              "      <th>S539AY</th>\n",
              "      <th>S522C</th>\n",
              "    </tr>\n",
              "  </thead>\n",
              "  <tbody>\n",
              "    <tr>\n",
              "      <th>0</th>\n",
              "      <td>1</td>\n",
              "      <td>0001019 02</td>\n",
              "      <td>1</td>\n",
              "      <td>KE6</td>\n",
              "      <td>1</td>\n",
              "      <td>19</td>\n",
              "      <td>2</td>\n",
              "      <td>1</td>\n",
              "      <td>5476381</td>\n",
              "      <td>8</td>\n",
              "      <td>2014</td>\n",
              "      <td>1376</td>\n",
              "      <td>8</td>\n",
              "      <td>1991</td>\n",
              "      <td>1100</td>\n",
              "      <td>23</td>\n",
              "      <td>20-24</td>\n",
              "      <td>Month and year - information complete</td>\n",
              "      <td>Completed</td>\n",
              "      <td>19</td>\n",
              "      <td>1309</td>\n",
              "      <td>13</td>\n",
              "      <td>68</td>\n",
              "      <td>2</td>\n",
              "      <td>All woman sample</td>\n",
              "      <td>1</td>\n",
              "      <td>1</td>\n",
              "      <td>1</td>\n",
              "      <td>Nairobi</td>\n",
              "      <td>Urban</td>\n",
              "      <td>NaN</td>\n",
              "      <td>1</td>\n",
              "      <td>178</td>\n",
              "      <td>7</td>\n",
              "      <td>175</td>\n",
              "      <td>177</td>\n",
              "      <td>6.0</td>\n",
              "      <td>NaN</td>\n",
              "      <td>NaN</td>\n",
              "      <td>NaN</td>\n",
              "      <td>...</td>\n",
              "      <td>NaN</td>\n",
              "      <td>NaN</td>\n",
              "      <td>NaN</td>\n",
              "      <td>NaN</td>\n",
              "      <td>NaN</td>\n",
              "      <td>NaN</td>\n",
              "      <td>NaN</td>\n",
              "      <td>NaN</td>\n",
              "      <td>NaN</td>\n",
              "      <td>NaN</td>\n",
              "      <td>NaN</td>\n",
              "      <td>NaN</td>\n",
              "      <td>NaN</td>\n",
              "      <td>NaN</td>\n",
              "      <td>NaN</td>\n",
              "      <td>NaN</td>\n",
              "      <td>NaN</td>\n",
              "      <td>NaN</td>\n",
              "      <td>NaN</td>\n",
              "      <td>NaN</td>\n",
              "      <td>NaN</td>\n",
              "      <td>NaN</td>\n",
              "      <td>NaN</td>\n",
              "      <td>NaN</td>\n",
              "      <td>NaN</td>\n",
              "      <td>NaN</td>\n",
              "      <td>NaN</td>\n",
              "      <td>NaN</td>\n",
              "      <td>NaN</td>\n",
              "      <td>NaN</td>\n",
              "      <td>NaN</td>\n",
              "      <td>NaN</td>\n",
              "      <td>NaN</td>\n",
              "      <td>NaN</td>\n",
              "      <td>NaN</td>\n",
              "      <td>NaN</td>\n",
              "      <td>NaN</td>\n",
              "      <td>NaN</td>\n",
              "      <td>NaN</td>\n",
              "      <td>NaN</td>\n",
              "    </tr>\n",
              "    <tr>\n",
              "      <th>1</th>\n",
              "      <td>2</td>\n",
              "      <td>0001019 03</td>\n",
              "      <td>1</td>\n",
              "      <td>KE6</td>\n",
              "      <td>1</td>\n",
              "      <td>19</td>\n",
              "      <td>3</td>\n",
              "      <td>1</td>\n",
              "      <td>5476381</td>\n",
              "      <td>8</td>\n",
              "      <td>2014</td>\n",
              "      <td>1376</td>\n",
              "      <td>2</td>\n",
              "      <td>1991</td>\n",
              "      <td>1094</td>\n",
              "      <td>23</td>\n",
              "      <td>20-24</td>\n",
              "      <td>Month and year - information complete</td>\n",
              "      <td>Completed</td>\n",
              "      <td>31</td>\n",
              "      <td>1309</td>\n",
              "      <td>13</td>\n",
              "      <td>68</td>\n",
              "      <td>2</td>\n",
              "      <td>All woman sample</td>\n",
              "      <td>1</td>\n",
              "      <td>1</td>\n",
              "      <td>1</td>\n",
              "      <td>Nairobi</td>\n",
              "      <td>Urban</td>\n",
              "      <td>NaN</td>\n",
              "      <td>3</td>\n",
              "      <td>178</td>\n",
              "      <td>7</td>\n",
              "      <td>175</td>\n",
              "      <td>177</td>\n",
              "      <td>6.0</td>\n",
              "      <td>NaN</td>\n",
              "      <td>NaN</td>\n",
              "      <td>NaN</td>\n",
              "      <td>...</td>\n",
              "      <td>NaN</td>\n",
              "      <td>NaN</td>\n",
              "      <td>NaN</td>\n",
              "      <td>NaN</td>\n",
              "      <td>NaN</td>\n",
              "      <td>NaN</td>\n",
              "      <td>NaN</td>\n",
              "      <td>NaN</td>\n",
              "      <td>NaN</td>\n",
              "      <td>NaN</td>\n",
              "      <td>NaN</td>\n",
              "      <td>NaN</td>\n",
              "      <td>NaN</td>\n",
              "      <td>NaN</td>\n",
              "      <td>NaN</td>\n",
              "      <td>NaN</td>\n",
              "      <td>NaN</td>\n",
              "      <td>NaN</td>\n",
              "      <td>NaN</td>\n",
              "      <td>NaN</td>\n",
              "      <td>NaN</td>\n",
              "      <td>NaN</td>\n",
              "      <td>NaN</td>\n",
              "      <td>NaN</td>\n",
              "      <td>NaN</td>\n",
              "      <td>NaN</td>\n",
              "      <td>NaN</td>\n",
              "      <td>NaN</td>\n",
              "      <td>NaN</td>\n",
              "      <td>NaN</td>\n",
              "      <td>NaN</td>\n",
              "      <td>NaN</td>\n",
              "      <td>NaN</td>\n",
              "      <td>NaN</td>\n",
              "      <td>NaN</td>\n",
              "      <td>NaN</td>\n",
              "      <td>NaN</td>\n",
              "      <td>NaN</td>\n",
              "      <td>NaN</td>\n",
              "      <td>NaN</td>\n",
              "    </tr>\n",
              "    <tr>\n",
              "      <th>2</th>\n",
              "      <td>3</td>\n",
              "      <td>0001033 02</td>\n",
              "      <td>1</td>\n",
              "      <td>KE6</td>\n",
              "      <td>1</td>\n",
              "      <td>33</td>\n",
              "      <td>2</td>\n",
              "      <td>1</td>\n",
              "      <td>5476381</td>\n",
              "      <td>8</td>\n",
              "      <td>2014</td>\n",
              "      <td>1376</td>\n",
              "      <td>8</td>\n",
              "      <td>1988</td>\n",
              "      <td>1064</td>\n",
              "      <td>26</td>\n",
              "      <td>25-29</td>\n",
              "      <td>Month and year - information complete</td>\n",
              "      <td>Completed</td>\n",
              "      <td>19</td>\n",
              "      <td>1309</td>\n",
              "      <td>13</td>\n",
              "      <td>68</td>\n",
              "      <td>2</td>\n",
              "      <td>All woman sample</td>\n",
              "      <td>1</td>\n",
              "      <td>1</td>\n",
              "      <td>1</td>\n",
              "      <td>Nairobi</td>\n",
              "      <td>Urban</td>\n",
              "      <td>NaN</td>\n",
              "      <td>1</td>\n",
              "      <td>179</td>\n",
              "      <td>7</td>\n",
              "      <td>175</td>\n",
              "      <td>177</td>\n",
              "      <td>6.0</td>\n",
              "      <td>1</td>\n",
              "      <td>NaN</td>\n",
              "      <td>NaN</td>\n",
              "      <td>...</td>\n",
              "      <td>NaN</td>\n",
              "      <td>NaN</td>\n",
              "      <td>NaN</td>\n",
              "      <td>NaN</td>\n",
              "      <td>NaN</td>\n",
              "      <td>NaN</td>\n",
              "      <td>NaN</td>\n",
              "      <td>NaN</td>\n",
              "      <td>NaN</td>\n",
              "      <td>NaN</td>\n",
              "      <td>NaN</td>\n",
              "      <td>NaN</td>\n",
              "      <td>NaN</td>\n",
              "      <td>NaN</td>\n",
              "      <td>NaN</td>\n",
              "      <td>NaN</td>\n",
              "      <td>NaN</td>\n",
              "      <td>NaN</td>\n",
              "      <td>NaN</td>\n",
              "      <td>NaN</td>\n",
              "      <td>NaN</td>\n",
              "      <td>NaN</td>\n",
              "      <td>NaN</td>\n",
              "      <td>NaN</td>\n",
              "      <td>NaN</td>\n",
              "      <td>NaN</td>\n",
              "      <td>NaN</td>\n",
              "      <td>NaN</td>\n",
              "      <td>NaN</td>\n",
              "      <td>NaN</td>\n",
              "      <td>NaN</td>\n",
              "      <td>NaN</td>\n",
              "      <td>NaN</td>\n",
              "      <td>NaN</td>\n",
              "      <td>NaN</td>\n",
              "      <td>NaN</td>\n",
              "      <td>NaN</td>\n",
              "      <td>NaN</td>\n",
              "      <td>NaN</td>\n",
              "      <td>NaN</td>\n",
              "    </tr>\n",
              "    <tr>\n",
              "      <th>3</th>\n",
              "      <td>4</td>\n",
              "      <td>0001033 02</td>\n",
              "      <td>2</td>\n",
              "      <td>KE6</td>\n",
              "      <td>1</td>\n",
              "      <td>33</td>\n",
              "      <td>2</td>\n",
              "      <td>1</td>\n",
              "      <td>5476381</td>\n",
              "      <td>8</td>\n",
              "      <td>2014</td>\n",
              "      <td>1376</td>\n",
              "      <td>8</td>\n",
              "      <td>1988</td>\n",
              "      <td>1064</td>\n",
              "      <td>26</td>\n",
              "      <td>25-29</td>\n",
              "      <td>Month and year - information complete</td>\n",
              "      <td>Completed</td>\n",
              "      <td>19</td>\n",
              "      <td>1309</td>\n",
              "      <td>13</td>\n",
              "      <td>68</td>\n",
              "      <td>2</td>\n",
              "      <td>All woman sample</td>\n",
              "      <td>1</td>\n",
              "      <td>1</td>\n",
              "      <td>1</td>\n",
              "      <td>Nairobi</td>\n",
              "      <td>Urban</td>\n",
              "      <td>NaN</td>\n",
              "      <td>1</td>\n",
              "      <td>179</td>\n",
              "      <td>7</td>\n",
              "      <td>175</td>\n",
              "      <td>177</td>\n",
              "      <td>6.0</td>\n",
              "      <td>1</td>\n",
              "      <td>NaN</td>\n",
              "      <td>NaN</td>\n",
              "      <td>...</td>\n",
              "      <td>NaN</td>\n",
              "      <td>NaN</td>\n",
              "      <td>NaN</td>\n",
              "      <td>NaN</td>\n",
              "      <td>NaN</td>\n",
              "      <td>NaN</td>\n",
              "      <td>NaN</td>\n",
              "      <td>NaN</td>\n",
              "      <td>NaN</td>\n",
              "      <td>NaN</td>\n",
              "      <td>NaN</td>\n",
              "      <td>NaN</td>\n",
              "      <td>NaN</td>\n",
              "      <td>NaN</td>\n",
              "      <td>NaN</td>\n",
              "      <td>NaN</td>\n",
              "      <td>NaN</td>\n",
              "      <td>NaN</td>\n",
              "      <td>NaN</td>\n",
              "      <td>NaN</td>\n",
              "      <td>NaN</td>\n",
              "      <td>NaN</td>\n",
              "      <td>NaN</td>\n",
              "      <td>NaN</td>\n",
              "      <td>NaN</td>\n",
              "      <td>NaN</td>\n",
              "      <td>NaN</td>\n",
              "      <td>NaN</td>\n",
              "      <td>NaN</td>\n",
              "      <td>NaN</td>\n",
              "      <td>NaN</td>\n",
              "      <td>NaN</td>\n",
              "      <td>NaN</td>\n",
              "      <td>NaN</td>\n",
              "      <td>NaN</td>\n",
              "      <td>NaN</td>\n",
              "      <td>NaN</td>\n",
              "      <td>NaN</td>\n",
              "      <td>NaN</td>\n",
              "      <td>NaN</td>\n",
              "    </tr>\n",
              "    <tr>\n",
              "      <th>4</th>\n",
              "      <td>5</td>\n",
              "      <td>0001037 02</td>\n",
              "      <td>1</td>\n",
              "      <td>KE6</td>\n",
              "      <td>1</td>\n",
              "      <td>37</td>\n",
              "      <td>2</td>\n",
              "      <td>1</td>\n",
              "      <td>5476381</td>\n",
              "      <td>8</td>\n",
              "      <td>2014</td>\n",
              "      <td>1376</td>\n",
              "      <td>2</td>\n",
              "      <td>1992</td>\n",
              "      <td>1106</td>\n",
              "      <td>22</td>\n",
              "      <td>20-24</td>\n",
              "      <td>Month and year - information complete</td>\n",
              "      <td>Completed</td>\n",
              "      <td>19</td>\n",
              "      <td>1309</td>\n",
              "      <td>13</td>\n",
              "      <td>68</td>\n",
              "      <td>2</td>\n",
              "      <td>All woman sample</td>\n",
              "      <td>1</td>\n",
              "      <td>1</td>\n",
              "      <td>1</td>\n",
              "      <td>Nairobi</td>\n",
              "      <td>Urban</td>\n",
              "      <td>NaN</td>\n",
              "      <td>1</td>\n",
              "      <td>178</td>\n",
              "      <td>7</td>\n",
              "      <td>175</td>\n",
              "      <td>177</td>\n",
              "      <td>6.0</td>\n",
              "      <td>1</td>\n",
              "      <td>NaN</td>\n",
              "      <td>NaN</td>\n",
              "      <td>...</td>\n",
              "      <td>NaN</td>\n",
              "      <td>NaN</td>\n",
              "      <td>NaN</td>\n",
              "      <td>NaN</td>\n",
              "      <td>NaN</td>\n",
              "      <td>NaN</td>\n",
              "      <td>NaN</td>\n",
              "      <td>NaN</td>\n",
              "      <td>NaN</td>\n",
              "      <td>NaN</td>\n",
              "      <td>NaN</td>\n",
              "      <td>NaN</td>\n",
              "      <td>NaN</td>\n",
              "      <td>NaN</td>\n",
              "      <td>NaN</td>\n",
              "      <td>NaN</td>\n",
              "      <td>NaN</td>\n",
              "      <td>NaN</td>\n",
              "      <td>NaN</td>\n",
              "      <td>NaN</td>\n",
              "      <td>NaN</td>\n",
              "      <td>NaN</td>\n",
              "      <td>NaN</td>\n",
              "      <td>NaN</td>\n",
              "      <td>NaN</td>\n",
              "      <td>NaN</td>\n",
              "      <td>NaN</td>\n",
              "      <td>NaN</td>\n",
              "      <td>NaN</td>\n",
              "      <td>NaN</td>\n",
              "      <td>NaN</td>\n",
              "      <td>NaN</td>\n",
              "      <td>NaN</td>\n",
              "      <td>NaN</td>\n",
              "      <td>NaN</td>\n",
              "      <td>NaN</td>\n",
              "      <td>NaN</td>\n",
              "      <td>NaN</td>\n",
              "      <td>NaN</td>\n",
              "      <td>NaN</td>\n",
              "    </tr>\n",
              "  </tbody>\n",
              "</table>\n",
              "<p>5 rows × 1100 columns</p>\n",
              "</div>"
            ],
            "text/plain": [
              "   Unnamed: 0           CASEID  MIDX V000  ...  S539AF  S539AG  S539AY  S522C\n",
              "0           1       0001019 02     1  KE6  ...     NaN     NaN     NaN    NaN\n",
              "1           2       0001019 03     1  KE6  ...     NaN     NaN     NaN    NaN\n",
              "2           3       0001033 02     1  KE6  ...     NaN     NaN     NaN    NaN\n",
              "3           4       0001033 02     2  KE6  ...     NaN     NaN     NaN    NaN\n",
              "4           5       0001037 02     1  KE6  ...     NaN     NaN     NaN    NaN\n",
              "\n",
              "[5 rows x 1100 columns]"
            ]
          },
          "metadata": {
            "tags": []
          },
          "execution_count": 2
        }
      ]
    },
    {
      "cell_type": "code",
      "metadata": {
        "id": "dwb38gMWBJ5C",
        "outputId": "e53db3ca-1bea-4ecd-acfa-31df2f4c4c2d",
        "colab": {
          "base_uri": "https://localhost:8080/",
          "height": 204
        }
      },
      "source": [
        "# selecting only the relevant columns\n",
        "df = kdhs2014[['CASEID', 'V010', 'V012', 'V025', 'V024', 'V106', 'V152', 'V201']]\n",
        "df.head()"
      ],
      "execution_count": null,
      "outputs": [
        {
          "output_type": "execute_result",
          "data": {
            "text/html": [
              "<div>\n",
              "<style scoped>\n",
              "    .dataframe tbody tr th:only-of-type {\n",
              "        vertical-align: middle;\n",
              "    }\n",
              "\n",
              "    .dataframe tbody tr th {\n",
              "        vertical-align: top;\n",
              "    }\n",
              "\n",
              "    .dataframe thead th {\n",
              "        text-align: right;\n",
              "    }\n",
              "</style>\n",
              "<table border=\"1\" class=\"dataframe\">\n",
              "  <thead>\n",
              "    <tr style=\"text-align: right;\">\n",
              "      <th></th>\n",
              "      <th>CASEID</th>\n",
              "      <th>V010</th>\n",
              "      <th>V012</th>\n",
              "      <th>V025</th>\n",
              "      <th>V024</th>\n",
              "      <th>V106</th>\n",
              "      <th>V152</th>\n",
              "      <th>V201</th>\n",
              "    </tr>\n",
              "  </thead>\n",
              "  <tbody>\n",
              "    <tr>\n",
              "      <th>0</th>\n",
              "      <td>0001019 02</td>\n",
              "      <td>1991</td>\n",
              "      <td>23</td>\n",
              "      <td>Urban</td>\n",
              "      <td>Nairobi</td>\n",
              "      <td>Secondary</td>\n",
              "      <td>52.0</td>\n",
              "      <td>2</td>\n",
              "    </tr>\n",
              "    <tr>\n",
              "      <th>1</th>\n",
              "      <td>0001019 03</td>\n",
              "      <td>1991</td>\n",
              "      <td>23</td>\n",
              "      <td>Urban</td>\n",
              "      <td>Nairobi</td>\n",
              "      <td>Secondary</td>\n",
              "      <td>52.0</td>\n",
              "      <td>1</td>\n",
              "    </tr>\n",
              "    <tr>\n",
              "      <th>2</th>\n",
              "      <td>0001033 02</td>\n",
              "      <td>1988</td>\n",
              "      <td>26</td>\n",
              "      <td>Urban</td>\n",
              "      <td>Nairobi</td>\n",
              "      <td>Secondary</td>\n",
              "      <td>27.0</td>\n",
              "      <td>2</td>\n",
              "    </tr>\n",
              "    <tr>\n",
              "      <th>3</th>\n",
              "      <td>0001033 02</td>\n",
              "      <td>1988</td>\n",
              "      <td>26</td>\n",
              "      <td>Urban</td>\n",
              "      <td>Nairobi</td>\n",
              "      <td>Secondary</td>\n",
              "      <td>27.0</td>\n",
              "      <td>2</td>\n",
              "    </tr>\n",
              "    <tr>\n",
              "      <th>4</th>\n",
              "      <td>0001037 02</td>\n",
              "      <td>1992</td>\n",
              "      <td>22</td>\n",
              "      <td>Urban</td>\n",
              "      <td>Nairobi</td>\n",
              "      <td>Primary</td>\n",
              "      <td>29.0</td>\n",
              "      <td>3</td>\n",
              "    </tr>\n",
              "  </tbody>\n",
              "</table>\n",
              "</div>"
            ],
            "text/plain": [
              "            CASEID  V010  V012   V025     V024       V106  V152  V201\n",
              "0       0001019 02  1991    23  Urban  Nairobi  Secondary  52.0     2\n",
              "1       0001019 03  1991    23  Urban  Nairobi  Secondary  52.0     1\n",
              "2       0001033 02  1988    26  Urban  Nairobi  Secondary  27.0     2\n",
              "3       0001033 02  1988    26  Urban  Nairobi  Secondary  27.0     2\n",
              "4       0001037 02  1992    22  Urban  Nairobi    Primary  29.0     3"
            ]
          },
          "metadata": {
            "tags": []
          },
          "execution_count": 3
        }
      ]
    },
    {
      "cell_type": "code",
      "metadata": {
        "id": "Ujo55ZIgDRjv",
        "outputId": "23389b09-64dd-404f-d729-86415570c843",
        "colab": {
          "base_uri": "https://localhost:8080/",
          "height": 173
        }
      },
      "source": [
        "# # finding and dealing with null values\n",
        "\n",
        "df.isna().sum()\n",
        "\n",
        "# Calculating the rounded mean of the V152 column to add it as a missing value\n",
        "V152_mean = df['V152'].mean()\n",
        "V152_mean = round(V152_mean, 0)\n",
        "V152_mean\n",
        "\n",
        "# Filling the missing value with the rounded mean\n",
        "df[\"V152\"].fillna(V152_mean, inplace=True)\n",
        "\n",
        "# # Checking if the rounded mean was inserted as a missing value\n",
        "df[3765:3769]"
      ],
      "execution_count": null,
      "outputs": [
        {
          "output_type": "execute_result",
          "data": {
            "text/html": [
              "<div>\n",
              "<style scoped>\n",
              "    .dataframe tbody tr th:only-of-type {\n",
              "        vertical-align: middle;\n",
              "    }\n",
              "\n",
              "    .dataframe tbody tr th {\n",
              "        vertical-align: top;\n",
              "    }\n",
              "\n",
              "    .dataframe thead th {\n",
              "        text-align: right;\n",
              "    }\n",
              "</style>\n",
              "<table border=\"1\" class=\"dataframe\">\n",
              "  <thead>\n",
              "    <tr style=\"text-align: right;\">\n",
              "      <th></th>\n",
              "      <th>CASEID</th>\n",
              "      <th>V010</th>\n",
              "      <th>V012</th>\n",
              "      <th>V025</th>\n",
              "      <th>V024</th>\n",
              "      <th>V106</th>\n",
              "      <th>V152</th>\n",
              "      <th>V201</th>\n",
              "    </tr>\n",
              "  </thead>\n",
              "  <tbody>\n",
              "    <tr>\n",
              "      <th>3765</th>\n",
              "      <td>0358051 02</td>\n",
              "      <td>1971</td>\n",
              "      <td>43</td>\n",
              "      <td>Rural</td>\n",
              "      <td>Coast</td>\n",
              "      <td>No education</td>\n",
              "      <td>44.0</td>\n",
              "      <td>12</td>\n",
              "    </tr>\n",
              "    <tr>\n",
              "      <th>3766</th>\n",
              "      <td>0359001 02</td>\n",
              "      <td>1988</td>\n",
              "      <td>26</td>\n",
              "      <td>Rural</td>\n",
              "      <td>Coast</td>\n",
              "      <td>Secondary</td>\n",
              "      <td>30.0</td>\n",
              "      <td>2</td>\n",
              "    </tr>\n",
              "    <tr>\n",
              "      <th>3767</th>\n",
              "      <td>0359001 02</td>\n",
              "      <td>1988</td>\n",
              "      <td>26</td>\n",
              "      <td>Rural</td>\n",
              "      <td>Coast</td>\n",
              "      <td>Secondary</td>\n",
              "      <td>30.0</td>\n",
              "      <td>2</td>\n",
              "    </tr>\n",
              "    <tr>\n",
              "      <th>3768</th>\n",
              "      <td>0359009 02</td>\n",
              "      <td>1981</td>\n",
              "      <td>32</td>\n",
              "      <td>Rural</td>\n",
              "      <td>Coast</td>\n",
              "      <td>Primary</td>\n",
              "      <td>38.0</td>\n",
              "      <td>4</td>\n",
              "    </tr>\n",
              "  </tbody>\n",
              "</table>\n",
              "</div>"
            ],
            "text/plain": [
              "               CASEID  V010  V012   V025   V024          V106  V152  V201\n",
              "3765       0358051 02  1971    43  Rural  Coast  No education  44.0    12\n",
              "3766       0359001 02  1988    26  Rural  Coast     Secondary  30.0     2\n",
              "3767       0359001 02  1988    26  Rural  Coast     Secondary  30.0     2\n",
              "3768       0359009 02  1981    32  Rural  Coast       Primary  38.0     4"
            ]
          },
          "metadata": {
            "tags": []
          },
          "execution_count": 4
        }
      ]
    },
    {
      "cell_type": "code",
      "metadata": {
        "id": "dwSYPwiJDRW5",
        "outputId": "f87de8ee-4f92-458c-9969-ade013ebfe82",
        "colab": {
          "base_uri": "https://localhost:8080/"
        }
      },
      "source": [
        "# Converting the values of column V152 into integer data type from float\n",
        "# as this the an age column\n",
        "df['V152']=df['V152'].astype(int)\n",
        "\n",
        "df.dtypes"
      ],
      "execution_count": null,
      "outputs": [
        {
          "output_type": "execute_result",
          "data": {
            "text/plain": [
              "CASEID    object\n",
              "V010       int64\n",
              "V012       int64\n",
              "V025      object\n",
              "V024      object\n",
              "V106      object\n",
              "V152       int64\n",
              "V201       int64\n",
              "dtype: object"
            ]
          },
          "metadata": {
            "tags": []
          },
          "execution_count": 5
        }
      ]
    },
    {
      "cell_type": "code",
      "metadata": {
        "id": "xt407vvhBJ5G",
        "outputId": "c5cf1d8c-012b-4bf0-c4a6-9c5d28715e58",
        "colab": {
          "base_uri": "https://localhost:8080/"
        }
      },
      "source": [
        "# dropping duplicates, if any\n",
        "# Checking the duplicate rows\n",
        "duplicates_df = df[df.duplicated()]\n",
        "print(duplicates_df)\n",
        "\n",
        "# Dropping the duplicates\n",
        "df = df.drop_duplicates()\n",
        "\n",
        "df.duplicated().any()"
      ],
      "execution_count": null,
      "outputs": [
        {
          "output_type": "stream",
          "text": [
            "                CASEID  V010  V012   V025     V024          V106  V152  V201\n",
            "3           0001033 02  1988    26  Urban  Nairobi     Secondary    27     2\n",
            "5           0001037 02  1992    22  Urban  Nairobi       Primary    29     3\n",
            "8           0001059 02  1992    21  Urban  Nairobi     Secondary    22     3\n",
            "9           0001059 02  1992    21  Urban  Nairobi     Secondary    22     3\n",
            "17          0002016 02  1990    24  Urban  Nairobi     Secondary    31     2\n",
            "...                ...   ...   ...    ...      ...           ...   ...   ...\n",
            "20951       1611139 04  1988    25  Urban  Western        Higher    57     2\n",
            "20955       1612008 02  1987    26  Urban  Western        Higher    28     2\n",
            "20957       1612015 02  1989    25  Urban  Western       Primary    24     3\n",
            "20959       1612041 02  1988    25  Urban  Western       Primary    28     2\n",
            "20963       1612134 02  1972    41  Urban  Western  No education    45    10\n",
            "\n",
            "[6015 rows x 8 columns]\n"
          ],
          "name": "stdout"
        },
        {
          "output_type": "execute_result",
          "data": {
            "text/plain": [
              "False"
            ]
          },
          "metadata": {
            "tags": []
          },
          "execution_count": 6
        }
      ]
    },
    {
      "cell_type": "code",
      "metadata": {
        "id": "MUQMkWjCDf0j",
        "outputId": "476eed7f-4c45-4da4-9c26-a921609238fd",
        "colab": {
          "base_uri": "https://localhost:8080/"
        }
      },
      "source": [
        "# checking for the shape of the dataset\n",
        "df.shape"
      ],
      "execution_count": null,
      "outputs": [
        {
          "output_type": "execute_result",
          "data": {
            "text/plain": [
              "(14949, 8)"
            ]
          },
          "metadata": {
            "tags": []
          },
          "execution_count": 7
        }
      ]
    },
    {
      "cell_type": "code",
      "metadata": {
        "id": "KmEeRXQfBJ5M",
        "outputId": "9040c3de-6edf-484a-c12a-d6e54f0862c6",
        "colab": {
          "base_uri": "https://localhost:8080/"
        }
      },
      "source": [
        "# calculating the mean, median, and mode of the V012 variable\n",
        "\n",
        "# Calculating the mean\n",
        "V012_mean_df = df['V012'].mean()\n",
        "V012_mean_df\n",
        "\n",
        "# Calculating the mode\n",
        "V012_mode_df = df['V012'].mode().iloc[0]\n",
        "V012_mode_df\n",
        "\n",
        "# Calculating the median\n",
        "V012_median_df = df['V012'].median()\n",
        "V012_median_df\n",
        "\n",
        "print(\"The mean for the variable V012 is:\" ,V012_mean_df, \"\\nThe modal value for the variable V012 is:\" ,V012_mode_df, \"\\nThe median for the variable V012 is:\", V012_median_df)"
      ],
      "execution_count": null,
      "outputs": [
        {
          "output_type": "stream",
          "text": [
            "The mean for the variable V012 is: 28.878988561107768 \n",
            "The modal value for the variable V012 is: 25 \n",
            "The median for the variable V012 is: 28.0\n"
          ],
          "name": "stdout"
        }
      ]
    },
    {
      "cell_type": "code",
      "metadata": {
        "id": "BQWmJ6qoBJ5Q",
        "outputId": "bb65f929-f7cc-4269-c2eb-0ca39de8383b",
        "colab": {
          "base_uri": "https://localhost:8080/"
        }
      },
      "source": [
        "# calculating the mean, median, and mode of the V152 variable\n",
        "\n",
        "# Caclculating the mean for V152 variable\n",
        "V152_mean_df = df['V152'].mean()\n",
        "V152_mean_df\n",
        "\n",
        "# Calculating the mode for the V152 variable/column\n",
        "V152_mode_df = df['V152'].mode().iloc[0]\n",
        "V152_mode_df\n",
        "\n",
        "# Calculating the median value for the variable V152\n",
        "V152_median_df = df['V152'].median()\n",
        "V152_median_df\n",
        "\n",
        "print(\"The mean for the variable V152 is:\" ,V152_mean_df, \"\\nThe modal value for the variable V012 is:\" ,V152_mode_df, \"\\nThe median for the variable V012 is:\", V152_median_df)"
      ],
      "execution_count": null,
      "outputs": [
        {
          "output_type": "stream",
          "text": [
            "The mean for the variable V152 is: 38.339888955782996 \n",
            "The modal value for the variable V012 is: 30 \n",
            "The median for the variable V012 is: 35.0\n"
          ],
          "name": "stdout"
        }
      ]
    },
    {
      "cell_type": "code",
      "metadata": {
        "id": "6OvHGXW4BJ5T",
        "outputId": "c1b59ab0-d4cc-4453-f713-143176603a8d",
        "colab": {
          "base_uri": "https://localhost:8080/"
        }
      },
      "source": [
        "# calculating the mean, median, and mode of the V201 variable\n",
        "\n",
        "# Calculating the mean for V201 variable\n",
        "V201_mean_df = df['V201'].mean()\n",
        "V201_mean_df\n",
        "\n",
        "# Calculating the mode for the variable V201\n",
        "V201_mode_df = df['V201'].mode().iloc[0]\n",
        "V201_mode_df\n",
        "\n",
        "# Claculating the median for the variable V201\n",
        "V201_median_df = df['V201'].median()\n",
        "V201_median_df\n",
        "\n",
        "print(\"The mean for the variable V201 is:\" ,V201_mean_df, \"\\nThe modal value for the variable V012 is:\" ,V201_mode_df, \"\\nThe median for the variable V012 is:\", V201_median_df)"
      ],
      "execution_count": null,
      "outputs": [
        {
          "output_type": "stream",
          "text": [
            "The mean for the variable V201 is: 3.4759515686668006 \n",
            "The modal value for the variable V012 is: 1 \n",
            "The median for the variable V012 is: 3.0\n"
          ],
          "name": "stdout"
        }
      ]
    },
    {
      "cell_type": "markdown",
      "metadata": {
        "id": "KOJUh1-Ybj8N"
      },
      "source": [
        "I would prefer the median since it remains largely unaffected by the number of observations or by outliers."
      ]
    },
    {
      "cell_type": "code",
      "metadata": {
        "id": "PFsrMvDMBJ5Z",
        "outputId": "93d35078-2e78-4323-c686-700fd1107006",
        "colab": {
          "base_uri": "https://localhost:8080/"
        }
      },
      "source": [
        "# calculating the range, IQR, and standard deviation of the V012 variable\n",
        "\n",
        "# Calculating the range for the variable V012\n",
        "V012_df_max = df['V012'].max()\n",
        "V012_df_max\n",
        "\n",
        "V012_df_min = df['V012'].min()\n",
        "V012_df_min\n",
        "\n",
        "# # We now calculate the range which is the largest value less the least value within the variable V012\n",
        "V012_range = V012_df_max - V012_df_min\n",
        "V012_range\n",
        "\n",
        "# Calculating the IQR for the variable V012\n",
        "V012_IQR = (df['V012'].quantile(0.75) - df['V012'].quantile(0.25))\n",
        "# V012_IQR\n",
        "\n",
        "# Calculating the standard deviation for the variable V012\n",
        "V012_std_df = df['V012'].std()\n",
        "V012_std_df\n",
        "\n",
        "print(\"The range of the variable V012 is:\", V012_range, \"\\n\\nThe Interquartile Range is:\", V012_IQR, \"\\n\\nThe standard deviation is:\", V012_std_df)"
      ],
      "execution_count": null,
      "outputs": [
        {
          "output_type": "stream",
          "text": [
            "The range of the variable V012 is: 34 \n",
            "\n",
            "The Interquartile Range is: 10.0 \n",
            "\n",
            "The standard deviation is: 6.795209999264812\n"
          ],
          "name": "stdout"
        }
      ]
    },
    {
      "cell_type": "code",
      "metadata": {
        "id": "sOEP6fcBBJ5c",
        "outputId": "ea72cf1e-5226-4a0a-8332-4799d8366ca2",
        "colab": {
          "base_uri": "https://localhost:8080/"
        }
      },
      "source": [
        "# calculating the range, IQR, and standard deviation of the V152 variable\n",
        "\n",
        "V152_max_df = df['V152'].max()\n",
        "V152_max_df\n",
        "\n",
        "V152_min_df = df['V152'].min()\n",
        "V152_min_df\n",
        "\n",
        "# # We now calculate the range which is the largest value less the least value within the variable V012\n",
        "V152_range = V152_max_df - V152_min_df\n",
        "V152_range\n",
        "\n",
        "# Calculating the IQR for the variable V012\n",
        "V152_IQR_df = (df['V152'].quantile(0.75) - df['V152'].quantile(0.25))\n",
        "V152_IQR_df\n",
        "\n",
        "# # Calculating the standard deviation for the variable V012\n",
        "V152_std_df = df['V152'].std()\n",
        "V152_std_df\n",
        "\n",
        "print(\"The range of the variable V152 is:\", V152_range, \"\\n\\nThe Interquartile Range is:\", V152_IQR_df, \"\\n\\nThe standard deviation is:\", V152_std_df)"
      ],
      "execution_count": null,
      "outputs": [
        {
          "output_type": "stream",
          "text": [
            "The range of the variable V152 is: 80 \n",
            "\n",
            "The Interquartile Range is: 14.0 \n",
            "\n",
            "The standard deviation is: 12.434054100701\n"
          ],
          "name": "stdout"
        }
      ]
    },
    {
      "cell_type": "markdown",
      "metadata": {
        "id": "xGRCz7I5BJ5g"
      },
      "source": [
        "The V152 variable has larger spread and variablity than the V012 variable."
      ]
    },
    {
      "cell_type": "code",
      "metadata": {
        "id": "_zynjP4gzFKz"
      },
      "source": [
        "!pip install mplcyberpunk\n",
        "  \n",
        "import matplotlib.pyplot as plt\n",
        "import mplcyberpunk\n",
        "plt.style.use(\"cyberpunk\")\n",
        "plt.plot([1, 3, 9, 5, 2, 1, 1], marker='o')\n",
        "plt.plot([4, 5, 5, 7, 9, 8, 6], marker='v')\n",
        "plt.plot([2, 3, 4, 3, 4, 5, 3], marker='s')\n",
        "# Add glow effects-Optional\n",
        "mplcyberpunk.add_glow_effects()\n",
        "plt.show()"
      ],
      "execution_count": null,
      "outputs": []
    },
    {
      "cell_type": "code",
      "metadata": {
        "id": "HDB7KDRHBJ5k",
        "outputId": "7769ccc1-a0d4-4140-a6f3-6b43ae057b4f",
        "colab": {
          "base_uri": "https://localhost:8080/",
          "height": 528
        }
      },
      "source": [
        "# histogram of V012 variable\n",
        "\n",
        "plt.figure(figsize=(24,6))\n",
        "# plt.hist(df['V012'], bins=15, histtype='bar', rwidth=0.9, color='goldenrod')\n",
        "df['V012'].hist(color = 'goldenrod', bins = 15, rwidth  = 0.9)\n",
        "plt.xticks(rotation = 0, color='white')\n",
        "plt.yticks(rotation = 0, color='white')\n",
        "plt.xlabel(\"Respondents Current Age\", labelpad=14, fontsize=14, color='white')\n",
        "plt.title(\"A Histogram showing the Respondents Current Age\")\n",
        "\n",
        "df['V012'].describe()"
      ],
      "execution_count": null,
      "outputs": [
        {
          "output_type": "execute_result",
          "data": {
            "text/plain": [
              "count    14949.000000\n",
              "mean        28.878989\n",
              "std          6.795210\n",
              "min         15.000000\n",
              "25%         24.000000\n",
              "50%         28.000000\n",
              "75%         34.000000\n",
              "max         49.000000\n",
              "Name: V012, dtype: float64"
            ]
          },
          "metadata": {
            "tags": []
          },
          "execution_count": 14
        },
        {
          "output_type": "display_data",
          "data": {
            "image/png": "[encoded data removed]",
            "text/plain": [
              "<Figure size 1728x432 with 1 Axes>"
            ]
          },
          "metadata": {
            "tags": []
          }
        }
      ]
    },
    {
      "cell_type": "code",
      "metadata": {
        "id": "r5tPgDpN0FKI",
        "outputId": "ea65d815-a585-405a-ecb0-ddd290c10231",
        "colab": {
          "base_uri": "https://localhost:8080/",
          "height": 355
        }
      },
      "source": [
        "plt.figure(figsize=(25,6))\n",
        "sns.boxplot(df['V012'], showmeans = True, linewidth=2.5)\n",
        "plt.title(\"A Boxplot showing the Respondents Current Age\")\n",
        "plt.show()"
      ],
      "execution_count": null,
      "outputs": [
        {
          "output_type": "display_data",
          "data": {
            "image/png": "[encoded data removed]",
            "text/plain": [
              "<Figure size 1800x432 with 1 Axes>"
            ]
          },
          "metadata": {
            "tags": []
          }
        }
      ]
    },
    {
      "cell_type": "code",
      "metadata": {
        "id": "7-Jr6G4JBJ5n",
        "outputId": "fc66f49c-a6d3-4fb4-c64e-710e8325aa37",
        "colab": {
          "base_uri": "https://localhost:8080/",
          "height": 514
        }
      },
      "source": [
        "# histogram of V152 variable\n",
        "\n",
        "plt.figure(figsize=(25,6))\n",
        "# plt.hist(df['V152'], bins=15, histtype='bar', rwidth=0.9, color='mediumvioletred')\n",
        "df['V152'].hist(color = 'goldenrod', bins = 15, rwidth = 0.9)\n",
        "plt.xticks(rotation=0, color='white')\n",
        "plt.yticks(rotation=0, color='white')\n",
        "plt.xlabel(\"Age of household head\", labelpad=14, fontsize=14, color='white')\n",
        "plt.title(\"A Histogram showing the Age of the Household Head\")\n",
        "\n",
        "df['V152'].describe()"
      ],
      "execution_count": null,
      "outputs": [
        {
          "output_type": "execute_result",
          "data": {
            "text/plain": [
              "count    14949.000000\n",
              "mean        38.339889\n",
              "std         12.434054\n",
              "min         15.000000\n",
              "25%         30.000000\n",
              "50%         35.000000\n",
              "75%         44.000000\n",
              "max         95.000000\n",
              "Name: V152, dtype: float64"
            ]
          },
          "metadata": {
            "tags": []
          },
          "execution_count": 16
        },
        {
          "output_type": "display_data",
          "data": {
            "image/png": "[encoded data removed]",
            "text/plain": [
              "<Figure size 1800x432 with 1 Axes>"
            ]
          },
          "metadata": {
            "tags": []
          }
        }
      ]
    },
    {
      "cell_type": "code",
      "metadata": {
        "id": "5QdkT6nF2RA4",
        "outputId": "2afd5c46-7fc5-4c62-de7d-39eb25bc40c8",
        "colab": {
          "base_uri": "https://localhost:8080/",
          "height": 355
        }
      },
      "source": [
        "plt.figure(figsize=(25,6))\n",
        "sns.boxplot(df['V152'], showmeans = True, linewidth=2.5)\n",
        "plt.title(\"A Boxplot showing the Age of the Household Head\")\n",
        "plt.show()"
      ],
      "execution_count": null,
      "outputs": [
        {
          "output_type": "display_data",
          "data": {
            "image/png": "[encoded data removed]",
            "text/plain": [
              "<Figure size 1800x432 with 1 Axes>"
            ]
          },
          "metadata": {
            "tags": []
          }
        }
      ]
    },
    {
      "cell_type": "markdown",
      "metadata": {
        "id": "6Unqn5mrcphm"
      },
      "source": [
        "Both the V012 and V152 variables are skewed to the left (positively skewed), meaning there are more observations to the left of the mean and median."
      ]
    },
    {
      "cell_type": "code",
      "metadata": {
        "id": "Tofkf-U6BJ5t",
        "outputId": "65c4d088-b53f-4839-b6fd-b9312124360f",
        "colab": {
          "base_uri": "https://localhost:8080/"
        }
      },
      "source": [
        "# displaying the frequency table of the V024 variable\n",
        "\n",
        "df['V024'].value_counts()"
      ],
      "execution_count": null,
      "outputs": [
        {
          "output_type": "execute_result",
          "data": {
            "text/plain": [
              "Rift Valley      4760\n",
              "Eastern          2299\n",
              "Nyanza           2085\n",
              "Coast            1857\n",
              "Western          1398\n",
              "Central          1197\n",
              "North Eastern     925\n",
              "Nairobi           428\n",
              "Name: V024, dtype: int64"
            ]
          },
          "metadata": {
            "tags": []
          },
          "execution_count": 18
        }
      ]
    },
    {
      "cell_type": "code",
      "metadata": {
        "id": "_f4CKAj0BJ5z",
        "outputId": "1364f191-c87e-4164-a3cb-a76a5c2d2e79",
        "colab": {
          "base_uri": "https://localhost:8080/",
          "height": 337
        }
      },
      "source": [
        "# plotting the bar chart of the V024 frequency table\n",
        "\n",
        "plt.figure(figsize=(25,6))\n",
        "df['V024'].value_counts().plot(kind='bar', color='goldenrod')\n",
        "plt.xticks(rotation=0, color='white')\n",
        "plt.yticks(rotation=0, color='white')\n",
        "plt.title(\"Bar Chart Showing The number of respondents by Region\")\n",
        "plt.show()"
      ],
      "execution_count": null,
      "outputs": [
        {
          "output_type": "display_data",
          "data": {
            "image/png": "[encoded data removed]",
            "text/plain": [
              "<Figure size 1800x432 with 1 Axes>"
            ]
          },
          "metadata": {
            "tags": []
          }
        }
      ]
    },
    {
      "cell_type": "code",
      "metadata": {
        "id": "ZS33hhsuBJ51",
        "outputId": "e6b45216-45ec-4c8c-d584-673de1d53128",
        "colab": {
          "base_uri": "https://localhost:8080/"
        }
      },
      "source": [
        "# displaying the frequency table of the V106 variable\n",
        "\n",
        "df['V106'].value_counts()"
      ],
      "execution_count": null,
      "outputs": [
        {
          "output_type": "execute_result",
          "data": {
            "text/plain": [
              "Primary         7843\n",
              "Secondary       3210\n",
              "No education    2790\n",
              "Higher          1106\n",
              "Name: V106, dtype: int64"
            ]
          },
          "metadata": {
            "tags": []
          },
          "execution_count": 20
        }
      ]
    },
    {
      "cell_type": "code",
      "metadata": {
        "id": "FT7fBr-5BJ54",
        "outputId": "4f567ec5-30c5-4000-a7a8-014192b2fb01",
        "colab": {
          "base_uri": "https://localhost:8080/",
          "height": 360
        }
      },
      "source": [
        "# plotting the bar chart of the V106 frequency table\n",
        "\n",
        "plt.figure(figsize=(25,6))\n",
        "\n",
        "\n",
        "df['V106'].value_counts().plot(kind='barh', color='goldenrod')\n",
        "plt.xticks(rotation=0, color='white')\n",
        "plt.yticks(rotation=0, color='white')\n",
        "plt.xlabel(\"Total number of respondents\", labelpad=14, fontsize=14)\n",
        "plt.ylabel(\"Highest level of education\", labelpad=14, fontsize=14)\n",
        "plt.title('Bar Chart Showing Highest level of Education', y=1.05)\n",
        "plt.show()"
      ],
      "execution_count": null,
      "outputs": [
        {
          "output_type": "display_data",
          "data": {
            "image/png": "[encoded data removed]",
            "text/plain": [
              "<Figure size 1800x432 with 1 Axes>"
            ]
          },
          "metadata": {
            "tags": []
          }
        }
      ]
    },
    {
      "cell_type": "code",
      "metadata": {
        "id": "uhMQ_eHwBJ59",
        "outputId": "fcade886-d224-420e-a2d6-d2cb68efa159",
        "colab": {
          "base_uri": "https://localhost:8080/",
          "height": 369
        }
      },
      "source": [
        "# plotting a boxplot of V201 by V025\n",
        "\n",
        "plt.figure(figsize=(25,6))\n",
        "\n",
        "sns.boxplot(df['V201'], df['V025'], linewidth=2.5)\n",
        "plt.title('Box plot of Total children ever born vs Type of residence', fontsize=14, y=1.05)\n",
        "plt.xticks(rotation=0, color='white')\n",
        "plt.yticks(rotation=0, color='white')\n",
        "plt.ylabel('Type of residence', labelpad=14, fontsize=14)\n",
        "plt.xlabel('Total children ever born', labelpad=14, fontsize=14)\n",
        "\n",
        "plt.show()"
      ],
      "execution_count": null,
      "outputs": [
        {
          "output_type": "display_data",
          "data": {
            "image/png": "[encoded data removed]",
            "text/plain": [
              "<Figure size 1800x432 with 1 Axes>"
            ]
          },
          "metadata": {
            "tags": []
          }
        }
      ]
    },
    {
      "cell_type": "code",
      "metadata": {
        "id": "RuMurijzBJ6C",
        "outputId": "d14000a2-b696-4def-a329-cb4323399c92",
        "colab": {
          "base_uri": "https://localhost:8080/",
          "height": 361
        }
      },
      "source": [
        "# plotting a boxplot of V201 by V106\n",
        "\n",
        "plt.figure(figsize=(25,6))\n",
        "sns.boxplot(df['V201'], df['V106'], linewidth=2.5)\n",
        "plt.title('Box plot of Total children ever born vs The highest level of education', fontsize=14, y=1.05)\n",
        "plt.xticks(rotation=0, color='white')\n",
        "plt.yticks(rotation=0, color='white')\n",
        "plt.xlabel('Total children ever born', labelpad=14, fontsize=14)\n",
        "plt.ylabel('The highest level of education', labelpad=14, fontsize=14)\n",
        "\n",
        "plt.show()"
      ],
      "execution_count": null,
      "outputs": [
        {
          "output_type": "display_data",
          "data": {
            "image/png": "[encoded data removed]",
            "text/plain": [
              "<Figure size 1800x432 with 1 Axes>"
            ]
          },
          "metadata": {
            "tags": []
          }
        }
      ]
    },
    {
      "cell_type": "code",
      "metadata": {
        "id": "7BqxU7URBJ6G",
        "outputId": "102b70bf-d6f8-44e4-984a-98be8affabdc",
        "colab": {
          "base_uri": "https://localhost:8080/",
          "height": 373
        }
      },
      "source": [
        "# plotting a boxplot of V201 by V024\n",
        "\n",
        "# plt.figure(figsize=(11,8))\n",
        "# sns.boxplot(df['V201'], df['V024'], color = 'darkorchid')\n",
        "# plt.title('Box plot of Total children ever born by Region', fontsize=14, y=1.05, color='white')\n",
        "# plt.xticks(rotation=45, color='white')\n",
        "# plt.yticks(rotation=45, color='white')\n",
        "\n",
        "# plt.show()\n",
        "\n",
        "plt.figure(figsize=(25,6))\n",
        "sns.boxplot(df['V024'], df['V201'], linewidth=2.5)\n",
        "plt.title('Box plot of Total children ever born by Region', fontsize=14, y=1.05)\n",
        "plt.xticks(rotation=0, color='white')\n",
        "plt.yticks(rotation=0, color='white')\n",
        "plt.xlabel('Region', labelpad=14, fontsize=14)\n",
        "plt.ylabel('Total children ever born', labelpad=14, fontsize=14)\n",
        "\n",
        "plt.show()"
      ],
      "execution_count": null,
      "outputs": [
        {
          "output_type": "display_data",
          "data": {
            "image/png": "[encoded data removed]",
            "text/plain": [
              "<Figure size 1800x432 with 1 Axes>"
            ]
          },
          "metadata": {
            "tags": []
          }
        }
      ]
    },
    {
      "cell_type": "code",
      "metadata": {
        "id": "Qv38s1xnBJ6W",
        "outputId": "eb83db0e-ede0-4cc7-b30c-10d2a42e3832",
        "colab": {
          "base_uri": "https://localhost:8080/",
          "height": 335
        }
      },
      "source": [
        "# scatter plot of V201 by V012\n",
        "\n",
        "plt.figure(figsize=(25,6))\n",
        "df.plot(kind = 'scatter' , x='V201', y='V012')\n",
        "plt.title(\"Total children ever born vs Respondents current age\", fontsize=14, y=1.05)\n",
        "plt.xticks(rotation=0, color='white')\n",
        "plt.yticks(rotation=0, color='white')\n",
        "plt.ylabel(\"Respondents current age\", labelpad=14, fontsize=14)\n",
        "plt.xlabel(\"Total children ever born\", labelpad=14, fontsize=14)\n",
        "\n",
        "plt.show()\n"
      ],
      "execution_count": null,
      "outputs": [
        {
          "output_type": "display_data",
          "data": {
            "text/plain": [
              "<Figure size 1800x432 with 0 Axes>"
            ]
          },
          "metadata": {
            "tags": []
          }
        },
        {
          "output_type": "display_data",
          "data": {
            "image/png": "[encoded data removed]",
            "text/plain": [
              "<Figure size 432x288 with 1 Axes>"
            ]
          },
          "metadata": {
            "tags": []
          }
        }
      ]
    },
    {
      "cell_type": "code",
      "metadata": {
        "id": "kRdc3lwPBJ6Z",
        "outputId": "2a292845-52c8-4af6-a3f2-da4c3525e629",
        "colab": {
          "base_uri": "https://localhost:8080/"
        }
      },
      "source": [
        "# previewing the correlation between the V201 and the V012 variables\n",
        "\n",
        "V201_V012_coeff = df['V201'].corr(df['V012'], method=\"pearson\")\n",
        "V201_V012_coeff"
      ],
      "execution_count": null,
      "outputs": [
        {
          "output_type": "execute_result",
          "data": {
            "text/plain": [
              "0.7104720955348267"
            ]
          },
          "metadata": {
            "tags": []
          },
          "execution_count": 26
        }
      ]
    },
    {
      "cell_type": "markdown",
      "metadata": {
        "id": "9P5jywSxT0Nm"
      },
      "source": [
        "We see that there is a strong correlation between the V201 variable (Total Children Born) and the V012 variable (Respondent's Current Age), implying that the older the age, the more number of children you can find."
      ]
    },
    {
      "cell_type": "markdown",
      "metadata": {
        "id": "EyIzV1noBJ6d"
      },
      "source": [
        "## 3. Summary of Findings"
      ]
    },
    {
      "cell_type": "markdown",
      "metadata": {
        "id": "B3U6TxE-BJ6e"
      },
      "source": [
        "- Majority of the respondents are below 35 years of age.\n",
        "- Majority of Household Heads are below 50 years of age.\n",
        "- Majority of the respondents are from the Rift Valley region while the least are from Nairobi.\n",
        "- Most of the respondents have attained Primary level of education as their highest level of education. Those with education levels beyond secondary school make up the minority.\n",
        "- More children are born in rural areas than in urban areas.\n",
        "- More children are born to mothers with no education.\n",
        "- Nyanza Region leads in terms of total children born. Nairobi Region is the last.\n",
        "- More children are born to older women than to younger women."
      ]
    }
  ]
}